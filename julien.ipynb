{
 "cells": [
  {
   "cell_type": "code",
   "execution_count": 40,
   "metadata": {
    "collapsed": true
   },
   "outputs": [],
   "source": [
    "%matplotlib inline"
   ]
  },
  {
   "cell_type": "code",
   "execution_count": 41,
   "metadata": {
    "collapsed": false
   },
   "outputs": [],
   "source": [
    "import urllib2 as url\n",
    "import re\n",
    "import numpy as np\n",
    "\n",
    "mesh_url=\"http://braincatalogue.org/data/Ferret/mesh.ply\"\n",
    "response=url.urlopen(mesh_url)\n",
    "text=response.read()\n",
    "text=text.split(\"\\n\")"
   ]
  },
  {
   "cell_type": "code",
   "execution_count": 42,
   "metadata": {
    "collapsed": false
   },
   "outputs": [
    {
     "name": "stdout",
     "output_type": "stream",
     "text": [
      "Reading 9991 vertices and 20000 triangles.\n"
     ]
    }
   ],
   "source": [
    "parser=re.compile(\"\\d+\")\n",
    "for line in text:\n",
    "    if \"element vertex\" in line:\n",
    "        nv=int(parser.findall(line)[0])\n",
    "    if \"element face\" in line:\n",
    "        nt=int(parser.findall(line)[0])\n",
    "    if \"end_header\" in line:\n",
    "        off=text.index(line)+1\n",
    "        break\n",
    "print \"Reading\",nv,\"vertices and\",nt,\"triangles.\"\n",
    "\n",
    "p=np.array([])\n",
    "for i in range(off,off+nv):\n",
    "    p=np.concatenate([p,np.fromstring(text[i],dtype=float,sep=\" \")])\n",
    "p=p.reshape(nv,3)\n",
    "\n",
    "t=np.array([])\n",
    "for i in range(off+nv,off+nv+nt):\n",
    "    tr=np.fromstring(text[i],dtype=int,sep=\" \");\n",
    "    t=np.concatenate([t,[tr[1],tr[2],tr[3]]])\n",
    "t=t.reshape(nt,3)\n",
    "\n",
    "#p = vertices\n",
    "#t = triangles\n",
    "\n",
    "x = p[:,0]\n",
    "y = p[:,1]\n",
    "z = p[:,2]\n"
   ]
  },
  {
   "cell_type": "code",
   "execution_count": 29,
   "metadata": {
    "collapsed": true
   },
   "outputs": [],
   "source": [
    "vertices = p\n",
    "\n",
    "def normalize_v3(arr):\n",
    "    ''' Normalize a numpy array of 3 component vectors shape=(n,3) '''\n",
    "    lens = numpy.sqrt( arr[:,0]**2 + arr[:,1]**2 + arr[:,2]**2 )\n",
    "    arr[:,0] /= lens\n",
    "    arr[:,1] /= lens\n",
    "    arr[:,2] /= lens                \n",
    "    return arr"
   ]
  },
  {
   "cell_type": "code",
   "execution_count": 39,
   "metadata": {
    "collapsed": false
   },
   "outputs": [
    {
     "data": {
      "text/plain": [
       "array([ 0.,  2.,  3.])"
      ]
     },
     "execution_count": 39,
     "metadata": {},
     "output_type": "execute_result"
    }
   ],
   "source": [
    "t[1,::]"
   ]
  },
  {
   "cell_type": "code",
   "execution_count": 26,
   "metadata": {
    "collapsed": false
   },
   "outputs": [
    {
     "ename": "ValueError",
     "evalue": "incompatible dimensions for cross product\n(dimension must be 2 or 3)",
     "output_type": "error",
     "traceback": [
      "\u001b[0;31m---------------------------------------------------------------------------\u001b[0m",
      "\u001b[0;31mValueError\u001b[0m                                Traceback (most recent call last)",
      "\u001b[0;32m<ipython-input-26-532aaa9bc0ca>\u001b[0m in \u001b[0;36m<module>\u001b[0;34m()\u001b[0m\n\u001b[1;32m      4\u001b[0m \u001b[0mtris\u001b[0m \u001b[0;34m=\u001b[0m \u001b[0mt\u001b[0m\u001b[0;34m\u001b[0m\u001b[0m\n\u001b[1;32m      5\u001b[0m \u001b[0;31m#Calculate the normal for all the triangles, by taking the cross product of the vectors v1-v0, and v2-v0 in each triangle\u001b[0m\u001b[0;34m\u001b[0m\u001b[0;34m\u001b[0m\u001b[0m\n\u001b[0;32m----> 6\u001b[0;31m \u001b[0mn\u001b[0m \u001b[0;34m=\u001b[0m \u001b[0mnumpy\u001b[0m\u001b[0;34m.\u001b[0m\u001b[0mcross\u001b[0m\u001b[0;34m(\u001b[0m \u001b[0mtris\u001b[0m\u001b[0;34m[\u001b[0m\u001b[0;34m:\u001b[0m\u001b[0;34m:\u001b[0m\u001b[0;34m,\u001b[0m\u001b[0;36m1\u001b[0m \u001b[0;34m]\u001b[0m \u001b[0;34m-\u001b[0m \u001b[0mtris\u001b[0m\u001b[0;34m[\u001b[0m\u001b[0;34m:\u001b[0m\u001b[0;34m:\u001b[0m\u001b[0;34m,\u001b[0m\u001b[0;36m0\u001b[0m\u001b[0;34m]\u001b[0m  \u001b[0;34m,\u001b[0m \u001b[0mtris\u001b[0m\u001b[0;34m[\u001b[0m\u001b[0;34m:\u001b[0m\u001b[0;34m:\u001b[0m\u001b[0;34m,\u001b[0m\u001b[0;36m2\u001b[0m \u001b[0;34m]\u001b[0m \u001b[0;34m-\u001b[0m \u001b[0mtris\u001b[0m\u001b[0;34m[\u001b[0m\u001b[0;34m:\u001b[0m\u001b[0;34m:\u001b[0m\u001b[0;34m,\u001b[0m\u001b[0;36m0\u001b[0m\u001b[0;34m]\u001b[0m \u001b[0;34m)\u001b[0m\u001b[0;34m\u001b[0m\u001b[0m\n\u001b[0m\u001b[1;32m      7\u001b[0m \u001b[0;31m# n is now an array of normals per triangle. The length of each normal is dependent the vertices,\u001b[0m\u001b[0;34m\u001b[0m\u001b[0;34m\u001b[0m\u001b[0m\n\u001b[1;32m      8\u001b[0m \u001b[0;31m# we need to normalize these, so that our next step weights each normal equally.\u001b[0m\u001b[0;34m\u001b[0m\u001b[0;34m\u001b[0m\u001b[0m\n",
      "\u001b[0;32m/Users/ghfc/anaconda2/envs/julia/lib/python2.7/site-packages/numpy/core/numeric.pyc\u001b[0m in \u001b[0;36mcross\u001b[0;34m(a, b, axisa, axisb, axisc, axis)\u001b[0m\n\u001b[1;32m   1525\u001b[0m            \"(dimension must be 2 or 3)\")\n\u001b[1;32m   1526\u001b[0m     \u001b[0;32mif\u001b[0m \u001b[0ma\u001b[0m\u001b[0;34m.\u001b[0m\u001b[0mshape\u001b[0m\u001b[0;34m[\u001b[0m\u001b[0;34m-\u001b[0m\u001b[0;36m1\u001b[0m\u001b[0;34m]\u001b[0m \u001b[0;32mnot\u001b[0m \u001b[0;32min\u001b[0m \u001b[0;34m(\u001b[0m\u001b[0;36m2\u001b[0m\u001b[0;34m,\u001b[0m \u001b[0;36m3\u001b[0m\u001b[0;34m)\u001b[0m \u001b[0;32mor\u001b[0m \u001b[0mb\u001b[0m\u001b[0;34m.\u001b[0m\u001b[0mshape\u001b[0m\u001b[0;34m[\u001b[0m\u001b[0;34m-\u001b[0m\u001b[0;36m1\u001b[0m\u001b[0;34m]\u001b[0m \u001b[0;32mnot\u001b[0m \u001b[0;32min\u001b[0m \u001b[0;34m(\u001b[0m\u001b[0;36m2\u001b[0m\u001b[0;34m,\u001b[0m \u001b[0;36m3\u001b[0m\u001b[0;34m)\u001b[0m\u001b[0;34m:\u001b[0m\u001b[0;34m\u001b[0m\u001b[0m\n\u001b[0;32m-> 1527\u001b[0;31m         \u001b[0;32mraise\u001b[0m \u001b[0mValueError\u001b[0m\u001b[0;34m(\u001b[0m\u001b[0mmsg\u001b[0m\u001b[0;34m)\u001b[0m\u001b[0;34m\u001b[0m\u001b[0m\n\u001b[0m\u001b[1;32m   1528\u001b[0m \u001b[0;34m\u001b[0m\u001b[0m\n\u001b[1;32m   1529\u001b[0m         \u001b[0;31m# Create the output array\u001b[0m\u001b[0;34m\u001b[0m\u001b[0;34m\u001b[0m\u001b[0m\n",
      "\u001b[0;31mValueError\u001b[0m: incompatible dimensions for cross product\n(dimension must be 2 or 3)"
     ]
    }
   ],
   "source": [
    "#Create a zeroed array with the same type and shape as our vertices i.e., per vertex normal\n",
    "norm = numpy.zeros( vertices.shape, dtype=vertices.dtype )\n",
    "#Create an indexed view into the vertex array using the array of three indices for triangles\n",
    "tris = t\n",
    "#Calculate the normal for all the triangles, by taking the cross product of the vectors v1-v0, and v2-v0 in each triangle             \n",
    "n = numpy.cross( tris[::,1 ] - tris[::,0]  , tris[::,2 ] - tris[::,0] )\n",
    "# n is now an array of normals per triangle. The length of each normal is dependent the vertices, \n",
    "# we need to normalize these, so that our next step weights each normal equally.\n",
    "normalize_v3(n)\n",
    "# now we have a normalized array of normals, one per triangle, i.e., per triangle normals.\n",
    "# But instead of one per triangle (i.e., flat shading), we add to each vertex in that triangle, \n",
    "# the triangles' normal. Multiple triangles would then contribute to every vertex, so we need to normalize again afterwards.\n",
    "# The cool part, we can actually add the normals through an indexed view of our (zeroed) per vertex normal array\n",
    "norm[ faces[:,0] ] += n\n",
    "norm[ faces[:,1] ] += n\n",
    "norm[ faces[:,2] ] += n\n",
    "normalize_v3(norm)"
   ]
  },
  {
   "cell_type": "code",
   "execution_count": 30,
   "metadata": {
    "collapsed": false
   },
   "outputs": [
    {
     "name": "stdout",
     "output_type": "stream",
     "text": [
      "[[  2.00000000e+00   1.40000000e+01   1.00000000e+00]\n",
      " [  0.00000000e+00   2.00000000e+00   3.00000000e+00]\n",
      " [  6.00000000e+00   2.00000000e+00   1.00000000e+00]\n",
      " ..., \n",
      " [  9.98500000e+03   9.98600000e+03   9.98700000e+03]\n",
      " [  9.98800000e+03   9.98700000e+03   9.99000000e+03]\n",
      " [  9.98900000e+03   9.99000000e+03   9.98700000e+03]]\n"
     ]
    }
   ],
   "source": [
    "print tris"
   ]
  },
  {
   "cell_type": "code",
   "execution_count": 16,
   "metadata": {
    "collapsed": true
   },
   "outputs": [],
   "source": [
    "import numpy as np\n",
    "\n",
    "def calculate_normals(p, t):\n",
    "    '''\n",
    "    Calculate the normals of each vertex of a mesh\n",
    "    as the weighted average of the normals of all faces\n",
    "    it is part of\n",
    "    '''\n",
    "    \n",
    "    face_normals = np.cross( t[::,1 ] - t[::,0]  , t[::,2 ] - t[::,0] )\n",
    "    face_normals /= 2 # weighting by surface area of the triangle, which is half the length of the normal\n",
    "    \n",
    "    vertex_normals = np.zeros(p.shape, dtype=p.dtype)\n",
    "    vertex_count = np.zeros(p.shape[0])\n",
    "    \n",
    "    for face in range(t.shape[0]):\n",
    "        vertex_normals[t[face]] += face_normals[face]\n",
    "        vertex_count[t[face]] += 1\n",
    "   \n",
    "    # divide by actual number of faces\n",
    "    vertex_normals /= vertex_count[:, np.newaxis]\n",
    "    \n",
    "    return vertex_normals\n"
   ]
  },
  {
   "cell_type": "code",
   "execution_count": 15,
   "metadata": {
    "collapsed": false
   },
   "outputs": [
    {
     "name": "stdout",
     "output_type": "stream",
     "text": [
      "[[-6.864583 -1.474754 -8.452395]\n",
      " [-8.184962 -1.051406 -8.451191]\n",
      " [-7.527279 -1.207996 -8.490135]\n",
      " ..., \n",
      " [ 0.98116  -5.726964  8.461373]\n",
      " [ 1.852013 -5.142472  8.372536]\n",
      " [ 1.073178 -5.072615  8.407865]]\n"
     ]
    }
   ],
   "source": [
    "print p"
   ]
  },
  {
   "cell_type": "code",
   "execution_count": 43,
   "metadata": {
    "collapsed": true
   },
   "outputs": [],
   "source": [
    "from mayavi import mlab\n",
    "from scipy.special import sph_harm\n",
    "mlab.triangular_mesh(x, y, z, t)\n",
    "mlab.show()"
   ]
  },
  {
   "cell_type": "code",
   "execution_count": 44,
   "metadata": {
    "collapsed": true
   },
   "outputs": [],
   "source": [
    "import sys\n",
    "import os\n",
    "import platform\n",
    "\n",
    "# Mindboogle\n",
    "\n",
    "mindbog=os.path.join('mindboggle-master')\n",
    "sys.path.append(mindbog)\n",
    "sys.path.append(os.path.join(mindbog,'mindboggle/shapes'))\n",
    "\n",
    "import laplace_beltrami as LB\n",
    "import numpy\n",
    "import scipy\n",
    "import time"
   ]
  },
  {
   "cell_type": "code",
   "execution_count": 45,
   "metadata": {
    "collapsed": false
   },
   "outputs": [],
   "source": [
    "points=numpy.array(p)\n",
    "faces=numpy.array(t, dtype = numpy.int_)\n",
    "\n",
    "A,B=LB.computeAB(points, faces)\n",
    "#A and B will be used to compute laplace beltrami eigenfunstions or fourier modes"
   ]
  },
  {
   "cell_type": "code",
   "execution_count": 46,
   "metadata": {
    "collapsed": false
   },
   "outputs": [
    {
     "data": {
      "image/png": "[encoded data removed]",
      "text/plain": [
       "<matplotlib.figure.Figure at 0x1317cde10>"
      ]
     },
     "metadata": {},
     "output_type": "display_data"
    }
   ],
   "source": [
    "import matplotlib.pylab as plt\n",
    "plt.spy(A)\n",
    "plt.show()"
   ]
  },
  {
   "cell_type": "code",
   "execution_count": 8,
   "metadata": {
    "collapsed": false
   },
   "outputs": [
    {
     "name": "stdout",
     "output_type": "stream",
     "text": [
      "Compute linear FEM Laplace-Beltrami spectrum\n"
     ]
    }
   ],
   "source": [
    "\n",
    "#t=time.time()\n",
    "ev,evec=LB.fem_laplacian(points, faces, 20)\n",
    "#print time.time()-t"
   ]
  },
  {
   "cell_type": "code",
   "execution_count": 47,
   "metadata": {
    "collapsed": false
   },
   "outputs": [],
   "source": [
    "mlab.triangular_mesh(x, y, z, t, scalars = evec[:, 2])\n",
    "mlab.show()"
   ]
  },
  {
   "cell_type": "code",
   "execution_count": 48,
   "metadata": {
    "collapsed": false
   },
   "outputs": [],
   "source": [
    "from sklearn.cluster import KMeans\n",
    "\n",
    "random_state = 42\n",
    "y_pred = KMeans(n_clusters=8, random_state = random_state).fit_predict(evec[:, 2:7])"
   ]
  },
  {
   "cell_type": "code",
   "execution_count": 11,
   "metadata": {
    "collapsed": false
   },
   "outputs": [
    {
     "data": {
      "text/plain": [
       "(9991, 1)"
      ]
     },
     "execution_count": 11,
     "metadata": {},
     "output_type": "execute_result"
    }
   ],
   "source": [
    "evec[:, 2:3].shape"
   ]
  },
  {
   "cell_type": "code",
   "execution_count": 12,
   "metadata": {
    "collapsed": false
   },
   "outputs": [],
   "source": [
    "mlab.triangular_mesh(x, y, z, t, scalars = y_pred, colormap='Set1')\n",
    "mlab.show()"
   ]
  },
  {
   "cell_type": "code",
   "execution_count": 13,
   "metadata": {
    "collapsed": false
   },
   "outputs": [
    {
     "ename": "MatlabExecutionError",
     "evalue": "\n  File /Users/ghfc/Documents/Dropbox/hugo_is_dead/scripts/JL_Toolboxes_v1.2/Toolboxes/io/read_ply.m, line 185, in read_ply\n\n  File /Users/ghfc/Documents/Dropbox/hugo_is_dead/scripts/JL_Toolboxes_v1.2/hemi_cut.m, line 9, in hemi_cut\nunable to open file\n",
     "output_type": "error",
     "traceback": [
      "\u001b[0;31m---------------------------------------------------------------------------\u001b[0m",
      "\u001b[0;31mMatlabExecutionError\u001b[0m                      Traceback (most recent call last)",
      "\u001b[0;32m<ipython-input-13-900a5a468b6a>\u001b[0m in \u001b[0;36m<module>\u001b[0;34m()\u001b[0m\n\u001b[1;32m     22\u001b[0m             \u001b[0;34m'/Users/ghfc/Documents/Dropbox/hugo_is_dead/scripts/JL_Toolboxes_v1.2/Toolboxes/SphericalDemons-v1.1-svn593/'\u001b[0m\u001b[0;34m,\u001b[0m\u001b[0;34m\u001b[0m\u001b[0m\n\u001b[1;32m     23\u001b[0m             '/Users/ghfc/Documents/Dropbox/hugo_is_dead/scripts/JL_Toolboxes_v1.2/Toolboxes/io/');\n\u001b[0;32m---> 24\u001b[0;31m \u001b[0mmatl\u001b[0m \u001b[0;34m=\u001b[0m \u001b[0meng\u001b[0m\u001b[0;34m.\u001b[0m\u001b[0mhemi_cut\u001b[0m\u001b[0;34m(\u001b[0m\u001b[0;34m'ce_macaque'\u001b[0m\u001b[0;34m,\u001b[0m \u001b[0;34m'ce_macaque'\u001b[0m\u001b[0;34m)\u001b[0m\u001b[0;34m\u001b[0m\u001b[0m\n\u001b[0m",
      "\u001b[0;32m/Users/ghfc/anaconda2/envs/julia/lib/python2.7/site-packages/matlab/engine/matlabengine.pyc\u001b[0m in \u001b[0;36m__call__\u001b[0;34m(self, *args, **kwargs)\u001b[0m\n\u001b[1;32m     82\u001b[0m         \u001b[0;32melse\u001b[0m\u001b[0;34m:\u001b[0m\u001b[0;34m\u001b[0m\u001b[0m\n\u001b[1;32m     83\u001b[0m             return FutureResult(self._engine(), future, nargs, _stdout,\n\u001b[0;32m---> 84\u001b[0;31m                                 _stderr).result()\n\u001b[0m\u001b[1;32m     85\u001b[0m \u001b[0;34m\u001b[0m\u001b[0m\n\u001b[1;32m     86\u001b[0m     \u001b[0;32mdef\u001b[0m \u001b[0m__validate_engine\u001b[0m\u001b[0;34m(\u001b[0m\u001b[0mself\u001b[0m\u001b[0;34m)\u001b[0m\u001b[0;34m:\u001b[0m\u001b[0;34m\u001b[0m\u001b[0m\n",
      "\u001b[0;32m/Users/ghfc/anaconda2/envs/julia/lib/python2.7/site-packages/matlab/engine/futureresult.pyc\u001b[0m in \u001b[0;36mresult\u001b[0;34m(self, timeout)\u001b[0m\n\u001b[1;32m    104\u001b[0m \u001b[0;34m\u001b[0m\u001b[0m\n\u001b[1;32m    105\u001b[0m             self._result = pythonengine.getFEvalResult(\n\u001b[0;32m--> 106\u001b[0;31m                 self._future,self._nargout, None, out=self._out, err=self._err)\n\u001b[0m\u001b[1;32m    107\u001b[0m             \u001b[0mself\u001b[0m\u001b[0;34m.\u001b[0m\u001b[0m_retrieved\u001b[0m \u001b[0;34m=\u001b[0m \u001b[0mTrue\u001b[0m\u001b[0;34m\u001b[0m\u001b[0m\n\u001b[1;32m    108\u001b[0m             \u001b[0;32mreturn\u001b[0m \u001b[0mself\u001b[0m\u001b[0;34m.\u001b[0m\u001b[0m_result\u001b[0m\u001b[0;34m\u001b[0m\u001b[0m\n",
      "\u001b[0;31mMatlabExecutionError\u001b[0m: \n  File /Users/ghfc/Documents/Dropbox/hugo_is_dead/scripts/JL_Toolboxes_v1.2/Toolboxes/io/read_ply.m, line 185, in read_ply\n\n  File /Users/ghfc/Documents/Dropbox/hugo_is_dead/scripts/JL_Toolboxes_v1.2/hemi_cut.m, line 9, in hemi_cut\nunable to open file\n"
     ]
    }
   ],
   "source": [
    "#here starts matlab\n",
    "\n",
    "import matlab.engine\n",
    "eng = matlab.engine.start_matlab()\n",
    "\n",
    "eng.addpath('/Users/ghfc/Documents/Dropbox/hugo_is_dead/scripts/JL_Toolboxes_v1.2/');\n",
    "eng.addpath('/Users/ghfc/Documents/Dropbox/hugo_is_dead/scripts/JL_Toolboxes_v1.2/Toolboxes/');\n",
    "eng.addpath('/Users/ghfc/Documents/Dropbox/hugo_is_dead/scripts/matlab/extensions/fieldtrip/currentversion/public/');\n",
    "#for some reasons it doesn't work if you don't add all the paths with scripts :/ \n",
    "#there must be a solutions, need to search\n",
    "eng.addpath('/Users/ghfc/Documents/Dropbox/hugo_is_dead/scripts/JL_Toolboxes_v1.2/Toolboxes/GeometryMesh/', \n",
    "            '/Users/ghfc/Documents/Dropbox/hugo_is_dead/scripts/JL_Toolboxes_v1.2/Toolboxes/ReactionDiffusion/',\n",
    "            '/Users/ghfc/Documents/Dropbox/hugo_is_dead/scripts/JL_Toolboxes_v1.2/Toolboxes/SpectralSphericalMapping/',\n",
    "            '/Users/ghfc/Documents/Dropbox/hugo_is_dead/scripts/JL_Toolboxes_v1.2/Toolboxes/GeneralFunctionsMatrices/',\n",
    "            '/Users/ghfc/Documents/Dropbox/hugo_is_dead/scripts/JL_Toolboxes_v1.2/Toolboxes/GeneralFunctionsMesh/',\n",
    "            '/Users/ghfc/Documents/Dropbox/hugo_is_dead/scripts/JL_Toolboxes_v1.2/Toolboxes/GyrificationIndex/',\n",
    "            '/Users/ghfc/Documents/Dropbox/hugo_is_dead/scripts/JL_Toolboxes_v1.2/Toolboxes/GyrificationIndex/',\n",
    "            '/Users/ghfc/Documents/Dropbox/hugo_is_dead/scripts/JL_Toolboxes_v1.2/Toolboxes/MorphomathMesh/',\n",
    "            '/Users/ghfc/Documents/Dropbox/hugo_is_dead/scripts/JL_Toolboxes_v1.2/Toolboxes/PDEMesh/',\n",
    "            '/Users/ghfc/Documents/Dropbox/hugo_is_dead/scripts/JL_Toolboxes_v1.2/Toolboxes/Partitions/',\n",
    "            '/Users/ghfc/Documents/Dropbox/hugo_is_dead/scripts/JL_Toolboxes_v1.2/Toolboxes/Registration/',\n",
    "            '/Users/ghfc/Documents/Dropbox/hugo_is_dead/scripts/JL_Toolboxes_v1.2/Toolboxes/SphericalDemons-v1.1-svn593/',\n",
    "            '/Users/ghfc/Documents/Dropbox/hugo_is_dead/scripts/JL_Toolboxes_v1.2/Toolboxes/io/');\n",
    "matl = eng.hemi_cut('ce_macaque', 'ce_macaque')"
   ]
  },
  {
   "cell_type": "code",
   "execution_count": 18,
   "metadata": {
    "collapsed": false
   },
   "outputs": [
    {
     "name": "stdout",
     "output_type": "stream",
     "text": [
      "None\n"
     ]
    }
   ],
   "source": [
    "print matl"
   ]
  },
  {
   "cell_type": "code",
   "execution_count": null,
   "metadata": {
    "collapsed": true
   },
   "outputs": [],
   "source": []
  }
 ],
 "metadata": {
  "kernelspec": {
   "display_name": "Python 2",
   "language": "python",
   "name": "python2"
  },
  "language_info": {
   "codemirror_mode": {
    "name": "ipython",
    "version": 2
   },
   "file_extension": ".py",
   "mimetype": "text/x-python",
   "name": "python",
   "nbconvert_exporter": "python",
   "pygments_lexer": "ipython2",
   "version": "2.7.11"
  },
  "widgets": {
   "state": {},
   "version": "1.1.2"
  }
 },
 "nbformat": 4,
 "nbformat_minor": 0
}
