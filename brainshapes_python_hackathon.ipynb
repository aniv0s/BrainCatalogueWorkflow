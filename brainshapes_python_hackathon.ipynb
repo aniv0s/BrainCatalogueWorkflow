{
 "cells": [
  {
   "cell_type": "code",
   "execution_count": 1,
   "metadata": {
    "collapsed": true
   },
   "outputs": [],
   "source": [
    "%matplotlib inline"
   ]
  },
  {
   "cell_type": "code",
   "execution_count": 2,
   "metadata": {
    "collapsed": false
   },
   "outputs": [],
   "source": [
    "import math\n",
    "import matplotlib.pyplot as plt\n",
    "import seaborn as sns\n",
    "import urllib2 as url\n",
    "import re\n",
    "import numpy as np\n",
    "import pandas as pd"
   ]
  },
  {
   "cell_type": "markdown",
   "metadata": {},
   "source": [
    "# Brain folding\n",
    "\n",
    "The surface reconstruction is a list of vertices and a list of triangles constructed from these vertices. The topology of the reconstruction is that of a sphere. We first read the number of vertices, the number of triangles, and then the list of vertices and the list of triangles."
   ]
  },
  {
   "cell_type": "markdown",
   "metadata": {},
   "source": [
    "### Total surface area, $S$\n",
    "The total surface area of the brain is approximated by the sum of the surface area of each triangle of its surface reconstruction:\n",
    "\n",
    "\\begin{equation}\n",
    "S=\\sum_{i=1}^{N_t}{A(T_i)},\n",
    "\\end{equation}\n",
    "\n",
    "where $A(T_i)$ is the surface area of the $i$-th triangle.\n",
    "\n",
    "### Total volume, $V$\n",
    "The volume of the reconstruction, computed for example using the sum of the signed volume of each triangle in the reconstruction:\n",
    "\n",
    "\\begin{equation}\n",
    "V=\\frac 1 6 \\sum_{i=1}^{N_t}{det(P(T_i))}\n",
    "\\end{equation}\n",
    "\n",
    "where $det(P(T_i))/6$ is the signed volume of the tetrahedron formed by the vertices of the $i$-th triangle and the origin of the coordinates system.\n",
    "\n",
    "### Absolute folding, $F$\n",
    "We can obtain a first global index of folding from these two values, that we call the absolute folding index, $F$. We define absolute folding as the ratio between the total surface area of the reconstruction, $S$, and $S_{sphere}$, the surface of a sphere with the same volume of the reconstruction, $V$:\n",
    "\n",
    "\\begin{equation}\n",
    "F=\\frac S {S_\\text{sphere}},\n",
    "\\end{equation}\n",
    "\n",
    "because\n",
    "\n",
    "\\begin{equation}\n",
    "S_\\text{sphere}=(36 \\pi)^{1/3} V^{2/3},\n",
    "\\end{equation}\n",
    "\n",
    "then\n",
    "\n",
    "\\begin{equation}\n",
    "F=\\frac {S} {(36 \\pi)^{1/3} V^{2/3}}.\n",
    "\\end{equation}\n",
    "\n",
    "Several researchers have defined similar indices of global folding where the total surface area $S$ is divided by the surface of a smooth envelope of the reconstruction. In those cases, the index obtained will depend on the method used to compute that smooth envelope, a convex hull for example. But because different brains will have different smooth envelopes, the baseline for comparison will change each time. In our case, the surface of the sphere with the same volume of the reconstruction is the smallest possible surface for that volume, which provides an absolute measurement of the degree of folding. Figure \\ref{fig:absoluteFolding} shows the value of $F$ for several geometric objects as well as neocortical reconstructions of different mammalian species."
   ]
  },
  {
   "cell_type": "code",
   "execution_count": 7,
   "metadata": {
    "collapsed": false
   },
   "outputs": [
    {
     "name": "stderr",
     "output_type": "stream",
     "text": [
      "/Users/ghfc/anaconda2/envs/julia/lib/python2.7/site-packages/ipykernel/__main__.py:71: DeprecationWarning: using a non-integer number instead of an integer will result in an error in the future\n",
      "/Users/ghfc/anaconda2/envs/julia/lib/python2.7/site-packages/ipykernel/__main__.py:81: DeprecationWarning: using a non-integer number instead of an integer will result in an error in the future\n"
     ]
    }
   ],
   "source": [
    "# some basic measuremets, this takes some time\n",
    "\n",
    "# import the data \n",
    "\n",
    "species = [ \n",
    "           'galago',\n",
    "           'slow_loris', \n",
    "           'douroucouli', \n",
    "           'capuchin', \n",
    "           'mangabey', \n",
    "           'rhesus_macaque',  \n",
    "           'ce_macaque', \n",
    "           'baboon',     \n",
    "           'orangutan', \n",
    "           'gorilla', \n",
    "           'roberto',\n",
    "          ]\n",
    "nt_species = []\n",
    "nv_species = []\n",
    "S_species = []\n",
    "V_species = []\n",
    "F_species = []\n",
    "X_species = []\n",
    "Y_species = []\n",
    "Z_species = []\n",
    "\n",
    "# you can insert direct link to the mesh from the BrainCatalogue instead\n",
    "\n",
    "for specie in species: \n",
    "    mesh_url=\"file:///Users/ghfc/Documents/Dropbox/hugo_is_dead/scripts/BrainCatalogueWorkflow/meshes_centered/%s/both.ply\" % (specie)\n",
    "    response=url.urlopen(mesh_url)\n",
    "    text=response.read()\n",
    "    text=text.split(\"\\n\")\n",
    "\n",
    "    parser=re.compile(\"\\d+\")\n",
    "    for line in text:\n",
    "        if \"element vertex\" in line:\n",
    "            nv=int(parser.findall(line)[0])\n",
    "        if \"element face\" in line:\n",
    "            nt=int(parser.findall(line)[0])\n",
    "        if \"end_header\" in line:\n",
    "            off=text.index(line)+1\n",
    "            break\n",
    "    nt_species.append(nt)\n",
    "    nv_species.append(nv)\n",
    "\n",
    "    p=np.array([])\n",
    "    for i in range(off,off+nv):\n",
    "        p=np.concatenate([p,np.fromstring(text[i],dtype=float,sep=\" \")])\n",
    "    p=p.reshape(nv,3)\n",
    "\n",
    "\n",
    "    t=np.array([])\n",
    "    for i in range(off+nv,off+nv+nt):\n",
    "        tr=np.fromstring(text[i],dtype=int,sep=\" \");\n",
    "        t=np.concatenate([t,[tr[1],tr[2],tr[3]]])\n",
    "    t=t.reshape(nt,3)\n",
    "    \n",
    "# Surface area\n",
    "    def A(p0,p1,p2):\n",
    "        #a,b,c    // side lengths\n",
    "        #s        // semiperimeter\n",
    "        a=np.linalg.norm(p0-p1);\n",
    "        b=np.linalg.norm(p1-p2);\n",
    "        c=np.linalg.norm(p2-p0);\n",
    "        s=(a+b+c)/2.0;\n",
    "        return np.sqrt(s*(s-a)*(s-b)*(s-c))\n",
    "\n",
    "    S=0\n",
    "    for i in range(0,nt):\n",
    "        S+=A(p[t[i][0]],p[t[i][1]],p[t[i][2]])\n",
    "    S_species.append(S)    \n",
    "\n",
    "#Volume\n",
    "    # Based on code by S. Melax from http://www.melax.com/volint/\n",
    "    def volume(p0,p1,p2):\n",
    "        return np.linalg.det([p0,p1,p2])/6.0\n",
    "\n",
    "    V=0\n",
    "    for i in range(0,nt):\n",
    "        V+=volume(p[t[i][0]],p[t[i][1]],p[t[i][2]])\n",
    "    V_species.append(V)\n",
    "    \n",
    "    \n",
    "\n",
    "#absolute folding index\n",
    "    def absFolding(s,v):\n",
    "        return s/(v**(2/3.0)*(36.0*np.pi)**(1/3.0))\n",
    "    #print absFolding(4*np.pi,(4/3.0)*np.pi) #test for a sphere\n",
    "\n",
    "    F=absFolding(S,V)\n",
    "    F_species.append(F)\n",
    "    \n",
    "    \n",
    "    \n",
    "    print \"Specie\",specie\n",
    "#    print \"Reading\",nv,\"vertices and\",nt,\"triangles.\" \n",
    "#    print \"Surface area:\",S,\"Volume:\",V\n",
    "#    print \"Absolute folding:\",F\n",
    "    \n",
    "    #check the size of the brain in X, Y, Z axes\n",
    "    \n",
    "    Xmin = p[0, 0]\n",
    "    Xmax = p[0, 0]\n",
    "\n",
    "    for i in range(0, nv):\n",
    "        if p[i, 0] < Xmin:\n",
    "            Xmin = p[i, 0]\n",
    "        if p[i, 0] > Xmax:\n",
    "            Xmax = p[i, 0]\n",
    "\n",
    "    Ymin = p[0, 1]\n",
    "    Ymax = p[0, 1]\n",
    "    for i in range(0, nv):\n",
    "        if p[i, 1] < Ymin:\n",
    "            Ymin = p[i, 1]\n",
    "        if p[i, 1] > Ymax:\n",
    "            Ymax = p[i, 1]\n",
    "\n",
    "    Zmin = p[0, 2]\n",
    "    Zmax = p[0, 2]\n",
    "    for i in range(0, nv):\n",
    "        if p[i, 1] < Zmin:\n",
    "            Zmin = p[i, 2]\n",
    "        if p[i, 1] > Zmax:\n",
    "            Zmax = p[i, 2]\n",
    "    X=Xmax-Xmin\n",
    "    Y=Ymax-Ymin\n",
    "    Z=Zmax-Zmin\n",
    "\n",
    "    X_species.append(X)\n",
    "    Y_species.append(Y)\n",
    "    Z_species.append(Z)\n",
    "    \n",
    "#    print \"X:\", X, \"Y:\", Y, \"Z:\", Z\n",
    "\n",
    "\n",
    "\n"
   ]
  },
  {
   "cell_type": "code",
   "execution_count": 8,
   "metadata": {
    "collapsed": false
   },
   "outputs": [
    {
     "name": "stdout",
     "output_type": "stream",
     "text": [
      "[    1.81766675     4.03740543    11.67019041    38.85435442    49.18347842\n",
      "    27.15590946    58.03733162    89.7470672    185.12524888   275.28515419\n",
      "  1142.10384958] [1817.6667539863877, 4037.4054265033969, 11670.190408677552, 38854.3544175305, 49183.478416936574, 27155.909464483717, 58037.331619323362, 89747.067203233077, 185125.24887854507, 275285.15419069293, 1142103.8495849166]\n"
     ]
    }
   ],
   "source": [
    "V_species_cm = np.asarray(V_species)/1000 #convert to cm3\n",
    "S_species_cm = np.asarray(S_species)/100 #convert to cm2\n",
    "\n",
    "print V_species_cm, V_species"
   ]
  },
  {
   "cell_type": "code",
   "execution_count": 9,
   "metadata": {
    "collapsed": false
   },
   "outputs": [
    {
     "name": "stdout",
     "output_type": "stream",
     "text": [
      "                Volume[cm3]  Surface area[cm2]  Absolute folding  N vertices  \\\n",
      "galago             1.817667          12.358498          1.715821        5002   \n",
      "slow_loris         4.037405          20.493956          1.671373        6856   \n",
      "douroucouli       11.670190          46.542918          1.870614        9968   \n",
      "capuchin          38.854354         127.502019          2.298299       12560   \n",
      "mangabey          49.183478         188.876828          2.909478       19939   \n",
      "rhesus_macaque    27.155909         116.895296          2.675490       12489   \n",
      "ce_macaque        58.037332         203.506226          2.807299       10997   \n",
      "baboon            89.747067         259.184294          2.673690        7502   \n",
      "orangutan        185.125249         410.111516          2.610803       12488   \n",
      "gorilla          275.285154         542.467507          2.650744       15001   \n",
      "roberto         1142.103850        2377.333215          4.499202       50002   \n",
      "\n",
      "                N triangles       X[mm]       Y[mm]      Z[mm]  \n",
      "galago                10000   18.774000   22.514000   4.302001  \n",
      "slow_loris            13708   24.022978   26.849528  -2.579356  \n",
      "douroucouli           19932   30.168002   44.477998  -5.136498  \n",
      "capuchin              25116   44.395132   61.886772 -13.816194  \n",
      "mangabey              39874   52.935310   62.470392   5.810457  \n",
      "rhesus_macaque        24978   43.852000   55.668002 -22.000236  \n",
      "ce_macaque            21990   54.285114   68.259205  -2.846277  \n",
      "baboon                15000   65.431602   78.150596  -6.322619  \n",
      "orangutan             24972   81.733024   88.747352  34.673516  \n",
      "gorilla               29998   88.008915  114.313102  36.918750  \n",
      "roberto              100000  142.877000  165.159400  51.657500  \n"
     ]
    }
   ],
   "source": [
    "# save the data to .csv and .txt \n",
    "\n",
    "allinamatrix = np.matrix([V_species_cm, S_species_cm, F_species, nv_species, nt_species, X_species, Y_species, Z_species])\n",
    "allinamatrix = allinamatrix.transpose()\n",
    "names = ['Volume[cm3]', 'Surface area[cm2]', 'Absolute folding', 'N vertices', 'N triangles', 'X[mm]', 'Y[mm]', 'Z[mm]']\n",
    "allinamatrix = pd.DataFrame(allinamatrix, index = species, columns=names)\n",
    "print allinamatrix\n",
    "allinamatrix.to_csv('species_data.txt', index=True, header=True, sep=' ')\n",
    "allinamatrix.to_csv('species_data.csv', index=True, header=True, sep=',')\n"
   ]
  },
  {
   "cell_type": "code",
   "execution_count": 12,
   "metadata": {
    "collapsed": false,
    "scrolled": true
   },
   "outputs": [
    {
     "name": "stdout",
     "output_type": "stream",
     "text": [
      "slope = 0.80304342014\n"
     ]
    },
    {
     "data": {
      "image/png": "[encoded data removed]",
      "text/plain": [
       "<matplotlib.figure.Figure at 0x112b7ac50>"
      ]
     },
     "metadata": {},
     "output_type": "display_data"
    }
   ],
   "source": [
    "# plot data in allometric function\n",
    "\n",
    "x = np.asarray(V_species)/1000 #convert to cm3\n",
    "y = np.asarray(S_species)/100 #convert to cm2\n",
    "\n",
    "## now for log10\n",
    "for index, item in enumerate(y):\n",
    "    y[index] = math.log10(item)\n",
    "for index, item in enumerate(x):\n",
    "    x[index] = math.log10(item)\n",
    "    \n",
    "    \n",
    "\n",
    "\n",
    "fig = plt.figure()\n",
    "fig.set_size_inches(10, 6)\n",
    "ax = sns.regplot(x,y, scatter_kws={'s':40})\n",
    "plt.title(\"Neocortical Volume and Surface in Primates\")\n",
    "plt.xlabel('Log total volume')\n",
    "plt.ylabel('Log total surface area')\n",
    "slope, intercept= np.polyfit(x,y,1)\n",
    "print('slope = ' + str(slope))\n",
    "plt.ylim([0.5,4])\n",
    "plt.xlim([0.0,3.3])\n",
    "#plt.gca().set_aspect('equal', adjustable='box')\n",
    "#plt.draw()\n",
    "\n",
    "\n",
    "\n",
    "for i in [0,1,2,3,5,6,7,8,9]:\n",
    "    for xy in zip(x, y):\n",
    "        ax.annotate('%s' % (species[i]), xy=xy, xytext=(-10,20), textcoords='offset points', ha='center', va='bottom',\n",
    "#            bbox=dict(boxstyle='round,pad=0.5', fc='white', alpha=0.6),\n",
    "#            arrowprops=dict(arrowstyle='->', connectionstyle='arc3,rad=0.5', \n",
    "#                            color='red')\n",
    "        )\n",
    "        i=i+1\n",
    "    break\n",
    "\n",
    "    \n",
    "\n",
    "# 2/3 slope\n",
    "x1 = np.arange(0, 4, step=0.1)\n",
    "y1 = (2./3.)*x1 + 0.85\n",
    "a, b= np.polyfit(x1,y1,1)\n",
    "plt.plot(x1, a*x1 + b, 'm--')\n",
    "plt.legend(['slope 0.80', 'slope 2/3'], loc=4)\n",
    "#plt.savefig('allometry.png') #update with your path\n",
    "plt.show()"
   ]
  },
  {
   "cell_type": "code",
   "execution_count": null,
   "metadata": {
    "collapsed": true
   },
   "outputs": [],
   "source": []
  }
 ],
 "metadata": {
  "kernelspec": {
   "display_name": "Python 2",
   "language": "python",
   "name": "python2"
  },
  "language_info": {
   "codemirror_mode": {
    "name": "ipython",
    "version": 2
   },
   "file_extension": ".py",
   "mimetype": "text/x-python",
   "name": "python",
   "nbconvert_exporter": "python",
   "pygments_lexer": "ipython2",
   "version": "2.7.11"
  },
  "widgets": {
   "state": {},
   "version": "1.1.2"
  }
 },
 "nbformat": 4,
 "nbformat_minor": 0
}
